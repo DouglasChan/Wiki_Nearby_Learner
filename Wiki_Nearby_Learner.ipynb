{
 "cells": [
  {
   "cell_type": "code",
   "execution_count": 2,
   "metadata": {},
   "outputs": [],
   "source": [
    "import pandas as pd\n",
    "import folium\n",
    "import folium.plugins as plugins\n",
    "import glob"
   ]
  },
  {
   "cell_type": "code",
   "execution_count": 3,
   "metadata": {},
   "outputs": [
    {
     "data": {
      "text/plain": [
       "['.\\\\locations_2020-07-31 14_04_30.072102_2020-07-31 14_08_59.601811.csv',\n",
       " '.\\\\locations_2020-07-31 14_08_59.657104_2020-07-31 14_10_41.604794.csv',\n",
       " '.\\\\locations_2020-07-31 14_10_41.620411_2020-07-31 14_12_21.575301.csv']"
      ]
     },
     "execution_count": 3,
     "metadata": {},
     "output_type": "execute_result"
    }
   ],
   "source": [
    "csv_list = glob.glob('./*.csv')\n",
    "csv_list"
   ]
  },
  {
   "cell_type": "code",
   "execution_count": 4,
   "metadata": {},
   "outputs": [],
   "source": [
    "li = []\n",
    "\n",
    "for i in range(len(csv_list)):\n",
    "    coordinates_temp = pd.read_csv(csv_list[i], header = None)\n",
    "    li.append(coordinates_temp)\n",
    "\n",
    "coordinates = pd.concat(li, ignore_index = True)\n",
    "    \n",
    "#https://stackoverflow.com/questions/20906474/import-multiple-csv-files-into-pandas-and-concatenate-into-one-dataframe"
   ]
  },
  {
   "cell_type": "code",
   "execution_count": 5,
   "metadata": {},
   "outputs": [
    {
     "data": {
      "text/html": [
       "<div>\n",
       "<style scoped>\n",
       "    .dataframe tbody tr th:only-of-type {\n",
       "        vertical-align: middle;\n",
       "    }\n",
       "\n",
       "    .dataframe tbody tr th {\n",
       "        vertical-align: top;\n",
       "    }\n",
       "\n",
       "    .dataframe thead th {\n",
       "        text-align: right;\n",
       "    }\n",
       "</style>\n",
       "<table border=\"1\" class=\"dataframe\">\n",
       "  <thead>\n",
       "    <tr style=\"text-align: right;\">\n",
       "      <th></th>\n",
       "      <th>0</th>\n",
       "      <th>1</th>\n",
       "    </tr>\n",
       "  </thead>\n",
       "  <tbody>\n",
       "    <tr>\n",
       "      <th>0</th>\n",
       "      <td>latitude</td>\n",
       "      <td>4.382917e+01</td>\n",
       "    </tr>\n",
       "    <tr>\n",
       "      <th>1</th>\n",
       "      <td>longitude</td>\n",
       "      <td>-7.927396e+01</td>\n",
       "    </tr>\n",
       "    <tr>\n",
       "      <th>2</th>\n",
       "      <td>time</td>\n",
       "      <td>1.596219e+09</td>\n",
       "    </tr>\n",
       "    <tr>\n",
       "      <th>3</th>\n",
       "      <td>latitude</td>\n",
       "      <td>4.382917e+01</td>\n",
       "    </tr>\n",
       "    <tr>\n",
       "      <th>4</th>\n",
       "      <td>longitude</td>\n",
       "      <td>-7.927396e+01</td>\n",
       "    </tr>\n",
       "    <tr>\n",
       "      <th>...</th>\n",
       "      <td>...</td>\n",
       "      <td>...</td>\n",
       "    </tr>\n",
       "    <tr>\n",
       "      <th>1777</th>\n",
       "      <td>longitude</td>\n",
       "      <td>-7.928281e+01</td>\n",
       "    </tr>\n",
       "    <tr>\n",
       "      <th>1778</th>\n",
       "      <td>time</td>\n",
       "      <td>1.596219e+09</td>\n",
       "    </tr>\n",
       "    <tr>\n",
       "      <th>1779</th>\n",
       "      <td>latitude</td>\n",
       "      <td>4.386082e+01</td>\n",
       "    </tr>\n",
       "    <tr>\n",
       "      <th>1780</th>\n",
       "      <td>longitude</td>\n",
       "      <td>-7.928285e+01</td>\n",
       "    </tr>\n",
       "    <tr>\n",
       "      <th>1781</th>\n",
       "      <td>time</td>\n",
       "      <td>1.596219e+09</td>\n",
       "    </tr>\n",
       "  </tbody>\n",
       "</table>\n",
       "<p>1782 rows × 2 columns</p>\n",
       "</div>"
      ],
      "text/plain": [
       "              0             1\n",
       "0      latitude  4.382917e+01\n",
       "1     longitude -7.927396e+01\n",
       "2          time  1.596219e+09\n",
       "3      latitude  4.382917e+01\n",
       "4     longitude -7.927396e+01\n",
       "...         ...           ...\n",
       "1777  longitude -7.928281e+01\n",
       "1778       time  1.596219e+09\n",
       "1779   latitude  4.386082e+01\n",
       "1780  longitude -7.928285e+01\n",
       "1781       time  1.596219e+09\n",
       "\n",
       "[1782 rows x 2 columns]"
      ]
     },
     "execution_count": 5,
     "metadata": {},
     "output_type": "execute_result"
    }
   ],
   "source": [
    "coordinates"
   ]
  },
  {
   "cell_type": "code",
   "execution_count": 61,
   "metadata": {},
   "outputs": [],
   "source": [
    "#coordinates = pd.read_csv('test_locations.csv', header = None)"
   ]
  },
  {
   "cell_type": "code",
   "execution_count": 14,
   "metadata": {
    "scrolled": true
   },
   "outputs": [],
   "source": [
    "#coordinates"
   ]
  },
  {
   "cell_type": "code",
   "execution_count": 6,
   "metadata": {},
   "outputs": [],
   "source": [
    "coordinates_new = coordinates.copy()"
   ]
  },
  {
   "cell_type": "code",
   "execution_count": 7,
   "metadata": {},
   "outputs": [],
   "source": [
    "coordinates_latitude = coordinates[coordinates.index % 3 == 0]\n",
    "coordinates_longitude = coordinates[coordinates.index % 3 == 1]\n",
    "coordinates_time = coordinates[coordinates.index % 3 == 2]\n",
    "\n",
    "#https://stackoverflow.com/questions/25055712/pandas-every-nth-row"
   ]
  },
  {
   "cell_type": "code",
   "execution_count": 8,
   "metadata": {},
   "outputs": [],
   "source": [
    "coordinates_latitude = coordinates_latitude.reset_index().drop(['index',0],axis=1)\n",
    "coordinates_longitude = coordinates_longitude.reset_index().drop(['index',0],axis=1)\n",
    "coordinates_time = coordinates_time.reset_index().drop(['index',0],axis=1)"
   ]
  },
  {
   "cell_type": "code",
   "execution_count": 9,
   "metadata": {},
   "outputs": [],
   "source": [
    "data = {'latitude': coordinates_latitude[1],'longitude':coordinates_longitude[1],'time':coordinates_time[1]}"
   ]
  },
  {
   "cell_type": "code",
   "execution_count": 10,
   "metadata": {},
   "outputs": [],
   "source": [
    "data_df = pd.DataFrame(data, columns = ['latitude','longitude','time'])"
   ]
  },
  {
   "cell_type": "code",
   "execution_count": 11,
   "metadata": {
    "scrolled": true
   },
   "outputs": [
    {
     "data": {
      "text/html": [
       "<div>\n",
       "<style scoped>\n",
       "    .dataframe tbody tr th:only-of-type {\n",
       "        vertical-align: middle;\n",
       "    }\n",
       "\n",
       "    .dataframe tbody tr th {\n",
       "        vertical-align: top;\n",
       "    }\n",
       "\n",
       "    .dataframe thead th {\n",
       "        text-align: right;\n",
       "    }\n",
       "</style>\n",
       "<table border=\"1\" class=\"dataframe\">\n",
       "  <thead>\n",
       "    <tr style=\"text-align: right;\">\n",
       "      <th></th>\n",
       "      <th>latitude</th>\n",
       "      <th>longitude</th>\n",
       "      <th>time</th>\n",
       "    </tr>\n",
       "  </thead>\n",
       "  <tbody>\n",
       "    <tr>\n",
       "      <th>0</th>\n",
       "      <td>43.829168</td>\n",
       "      <td>-79.273956</td>\n",
       "      <td>1.596219e+09</td>\n",
       "    </tr>\n",
       "    <tr>\n",
       "      <th>1</th>\n",
       "      <td>43.829168</td>\n",
       "      <td>-79.273956</td>\n",
       "      <td>1.596219e+09</td>\n",
       "    </tr>\n",
       "    <tr>\n",
       "      <th>2</th>\n",
       "      <td>43.829168</td>\n",
       "      <td>-79.273956</td>\n",
       "      <td>1.596219e+09</td>\n",
       "    </tr>\n",
       "    <tr>\n",
       "      <th>3</th>\n",
       "      <td>43.829168</td>\n",
       "      <td>-79.273956</td>\n",
       "      <td>1.596219e+09</td>\n",
       "    </tr>\n",
       "    <tr>\n",
       "      <th>4</th>\n",
       "      <td>43.829168</td>\n",
       "      <td>-79.273956</td>\n",
       "      <td>1.596219e+09</td>\n",
       "    </tr>\n",
       "    <tr>\n",
       "      <th>...</th>\n",
       "      <td>...</td>\n",
       "      <td>...</td>\n",
       "      <td>...</td>\n",
       "    </tr>\n",
       "    <tr>\n",
       "      <th>589</th>\n",
       "      <td>43.860185</td>\n",
       "      <td>-79.282699</td>\n",
       "      <td>1.596219e+09</td>\n",
       "    </tr>\n",
       "    <tr>\n",
       "      <th>590</th>\n",
       "      <td>43.860343</td>\n",
       "      <td>-79.282733</td>\n",
       "      <td>1.596219e+09</td>\n",
       "    </tr>\n",
       "    <tr>\n",
       "      <th>591</th>\n",
       "      <td>43.860503</td>\n",
       "      <td>-79.282770</td>\n",
       "      <td>1.596219e+09</td>\n",
       "    </tr>\n",
       "    <tr>\n",
       "      <th>592</th>\n",
       "      <td>43.860661</td>\n",
       "      <td>-79.282809</td>\n",
       "      <td>1.596219e+09</td>\n",
       "    </tr>\n",
       "    <tr>\n",
       "      <th>593</th>\n",
       "      <td>43.860818</td>\n",
       "      <td>-79.282846</td>\n",
       "      <td>1.596219e+09</td>\n",
       "    </tr>\n",
       "  </tbody>\n",
       "</table>\n",
       "<p>594 rows × 3 columns</p>\n",
       "</div>"
      ],
      "text/plain": [
       "      latitude  longitude          time\n",
       "0    43.829168 -79.273956  1.596219e+09\n",
       "1    43.829168 -79.273956  1.596219e+09\n",
       "2    43.829168 -79.273956  1.596219e+09\n",
       "3    43.829168 -79.273956  1.596219e+09\n",
       "4    43.829168 -79.273956  1.596219e+09\n",
       "..         ...        ...           ...\n",
       "589  43.860185 -79.282699  1.596219e+09\n",
       "590  43.860343 -79.282733  1.596219e+09\n",
       "591  43.860503 -79.282770  1.596219e+09\n",
       "592  43.860661 -79.282809  1.596219e+09\n",
       "593  43.860818 -79.282846  1.596219e+09\n",
       "\n",
       "[594 rows x 3 columns]"
      ]
     },
     "execution_count": 11,
     "metadata": {},
     "output_type": "execute_result"
    }
   ],
   "source": [
    "data_df"
   ]
  },
  {
   "cell_type": "code",
   "execution_count": 93,
   "metadata": {},
   "outputs": [],
   "source": [
    "folium_map = folium.Map(location=[data_df['latitude'][0],data_df['longitude'][0]], zoom_start=15)"
   ]
  },
  {
   "cell_type": "code",
   "execution_count": 94,
   "metadata": {},
   "outputs": [
    {
     "data": {
      "text/plain": [
       "<folium.plugins.fast_marker_cluster.FastMarkerCluster at 0x1988f3a84e0>"
      ]
     },
     "execution_count": 94,
     "metadata": {},
     "output_type": "execute_result"
    }
   ],
   "source": [
    "plugins.FastMarkerCluster(data=list(zip(data_df['latitude'].values, data_df['longitude'].values))).add_to(folium_map)"
   ]
  },
  {
   "cell_type": "code",
   "execution_count": 95,
   "metadata": {},
   "outputs": [],
   "source": [
    "counter = 0\n",
    "for point in range(len(data_df['latitude'].values)):\n",
    "    if counter % 25 == 0:\n",
    "        folium.Circle([data_df['latitude'][point],data_df['longitude'][point]], radius=1000, opacity = 0.35).add_to(folium_map)\n",
    "        counter += 1\n",
    "    else:\n",
    "        counter += 1\n",
    "    \n",
    "    #print(data_df['latitude'][point])\n",
    "    \n",
    "    #folium.Circle([data_df['latitude'].values[point],data_df['longitude'].values], radius = 100).add_to(folium_map)\n",
    "\n",
    "#folium.Circle([list(zip(data_df['latitude'].values, data_df['longitude'].values))], radius = 100).add_to(folium_map)\n",
    "\n",
    "\n",
    "#folium.Circle([lat, lon],\n",
    "#                    radius=40\n",
    "#                   ).add_to(map)\n"
   ]
  },
  {
   "cell_type": "code",
   "execution_count": 96,
   "metadata": {},
   "outputs": [
    {
     "data": {
      "text/html": [
       "<div style=\"width:100%;\"><div style=\"position:relative;width:100%;height:0;padding-bottom:60%;\"><span style=\"color:#565656\">Make this Notebook Trusted to load map: File -> Trust Notebook</span><iframe src=\"about:blank\" style=\"position:absolute;width:100%;height:100%;left:0;top:0;border:none !important;\" data-html=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 onload=\"this.contentDocument.open();this.contentDocument.write(atob(this.getAttribute('data-html')));this.contentDocument.close();\" allowfullscreen webkitallowfullscreen mozallowfullscreen></iframe></div></div>"
      ],
      "text/plain": [
       "<folium.folium.Map at 0x1988f3a86a0>"
      ]
     },
     "execution_count": 96,
     "metadata": {},
     "output_type": "execute_result"
    }
   ],
   "source": [
    "folium.LayerControl().add_to(folium_map)\n",
    "\n",
    "folium_map\n",
    "\n",
    "#https://stackoverflow.com/questions/50954840/displaying-radius-in-meters-with-folium\n",
    "#http://www.andrewchallis.co.uk/wp-content/uploads/2017/12/Folium.pdf"
   ]
  }
 ],
 "metadata": {
  "kernelspec": {
   "display_name": "Python 3",
   "language": "python",
   "name": "python3"
  },
  "language_info": {
   "codemirror_mode": {
    "name": "ipython",
    "version": 3
   },
   "file_extension": ".py",
   "mimetype": "text/x-python",
   "name": "python",
   "nbconvert_exporter": "python",
   "pygments_lexer": "ipython3",
   "version": "3.7.3"
  }
 },
 "nbformat": 4,
 "nbformat_minor": 4
}
